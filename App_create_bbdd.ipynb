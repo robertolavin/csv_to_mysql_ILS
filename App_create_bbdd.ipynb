{
 "cells": [
  {
   "cell_type": "code",
   "execution_count": null,
   "metadata": {},
   "outputs": [],
   "source": [
    "#create database\n",
    "import mysql.connector\n",
    "\n",
    "connection = mysql.connector.connect(\n",
    "  host=\"localhost\",\n",
    "  user=\"root\",\n",
    "  password=\"*****\"\n",
    ")\n",
    "cursor = connection.cursor()\n",
    "\n",
    "cursor.execute(\"CREATE DATABASE PROJECTS1\")\n",
    "\n",
    "connection.commit()\n",
    "\n",
    "cursor.close()\n",
    "connection.close()"
   ]
  },
  {
   "cell_type": "code",
   "execution_count": 8,
   "metadata": {},
   "outputs": [],
   "source": [
    "#create datatable\n",
    "import mysql.connector\n",
    "config = {\n",
    "    'user': 'root',\n",
    "    'password': '*****',\n",
    "    'host': 'localhost',\n",
    "    'database': 'PROJECTS1'\n",
    "}\n",
    "connection = mysql.connector.connect(**config)\n",
    "cursor = connection.cursor()\n",
    "\n",
    "query = \"\"\"\n",
    "CREATE TABLE LIQUOR_SALES (\n",
    "    id INT AUTO_INCREMENT PRIMARY KEY,\n",
    "    Invoice VARCHAR(255),\n",
    "    Date DATE,\n",
    "    Store_Number VARCHAR(255),\n",
    "    Store_Name VARCHAR(255),\n",
    "    Address VARCHAR(255),\n",
    "    City VARCHAR(255),\n",
    "    Zip_Code VARCHAR(255),\n",
    "    Store_Location VARCHAR(255),\n",
    "    County_Number VARCHAR(255),\n",
    "    County VARCHAR(255),\n",
    "    Category VARCHAR(255),\n",
    "    Category_Name VARCHAR(255),\n",
    "    Vendor_Number VARCHAR(255),\n",
    "    Vendor_Name VARCHAR(255),\n",
    "    Item_Number VARCHAR(255),\n",
    "    Item_Description VARCHAR(255),\n",
    "    Pack VARCHAR(255),\n",
    "    Bottle_Volume_ml INT,\n",
    "    State_Bottle_Cost FLOAT,\n",
    "    State_Bottle_Retail FLOAT,\n",
    "    Bottles_Sold INT,\n",
    "    Sale_Dollars FLOAT,\n",
    "    Volume_Sold_Liters FLOAT,\n",
    "    Volume_Sold_Gallons FLOAT\n",
    ")\n",
    "\"\"\"\n",
    "\n",
    "cursor.execute(query)\n",
    "\n",
    "connection.commit()\n",
    "\n",
    "cursor.close()\n",
    "connection.close()"
   ]
  }
 ],
 "metadata": {
  "kernelspec": {
   "display_name": "Python 3",
   "language": "python",
   "name": "python3"
  },
  "language_info": {
   "codemirror_mode": {
    "name": "ipython",
    "version": 3
   },
   "file_extension": ".py",
   "mimetype": "text/x-python",
   "name": "python",
   "nbconvert_exporter": "python",
   "pygments_lexer": "ipython3",
   "version": "3.11.2"
  },
  "orig_nbformat": 4
 },
 "nbformat": 4,
 "nbformat_minor": 2
}
