{
 "cells": [
  {
   "cell_type": "code",
   "execution_count": 2,
   "metadata": {},
   "outputs": [],
   "source": [
    "import mysql.connector\n",
    "import pandas as pd\n",
    "\n",
    "\n",
    "config = {\n",
    "    'user': 'root',\n",
    "    'password': '*****',\n",
    "    'host': 'localhost',\n",
    "    'database': 'PROJECTS1'\n",
    "}\n",
    "connection = mysql.connector.connect(**config)\n",
    "cursor = connection.cursor()\n",
    "\n",
    "\n",
    "columnas=(pd.read_csv('C:/Users/rober/Desktop/bbdd/Iowa_Liquor_Sales.csv',dtype=\"str\",low_memory=True,nrows=1)).columns\n",
    "chunk=10**4\n",
    "\n",
    "for df1 in pd.read_csv('C:/Users/rober/Desktop/bbdd/Iowa_Liquor_Sales.csv',low_memory=False,chunksize=chunk, dtype=str,usecols=columnas):\n",
    "\n",
    "    df1['Date'] = pd.to_datetime(df1['Date'])\n",
    "    df1['Date'] = df1['Date'].dt.strftime('%Y-%m-%d')\n",
    "    df1['Date'] = df1['Date'].astype(str)\n",
    "\n",
    "    cols_mod=['State Bottle Cost','State Bottle Retail','Sale (Dollars)']\n",
    "    for col in cols_mod:\n",
    "        df1[col] = df1[col].str.replace('$','')\n",
    "\n",
    "    for i in range(df1.shape[0]):\n",
    "        query = \"\"\"\n",
    "        INSERT INTO LIQUOR_SALES (Invoice,Date,Store_Number,Store_Name,Address,\n",
    "        City,Zip_Code,Store_Location,County_Number,County,Category,Category_Name,\n",
    "        Vendor_Number,Vendor_Name,Item_Number,Item_Description,Pack,Bottle_Volume_ml,\n",
    "        State_Bottle_Cost,State_Bottle_Retail,Bottles_Sold,Sale_Dollars,Volume_Sold_Liters,Volume_Sold_Gallons) \n",
    "        VALUES (%s,%s,%s,%s,%s,%s,%s,%s,%s,%s,%s,%s,%s,%s,%s,%s,%s,%s,%s,%s,%s,%s,%s,%s)\n",
    "        \"\"\"\n",
    "\n",
    "        list=df1.iloc[i].tolist()\n",
    "        list[17]=int(list[17])\n",
    "        list[18]=float(list[18])\n",
    "        list[19]=float(list[19])\n",
    "        list[20]=int(list[20])\n",
    "        list[21]=float(list[21])\n",
    "        list[22]=float(list[22])\n",
    "        list[23]=float(list[23])\n",
    "        values = tuple(list)\n",
    "\n",
    "        cursor.execute(query,values)\n",
    "        connection.commit()\n",
    "\n",
    "cursor.close()\n",
    "connection.close()\n",
    "\n",
    "#130min\n"
   ]
  }
 ],
 "metadata": {
  "kernelspec": {
   "display_name": "Python 3",
   "language": "python",
   "name": "python3"
  },
  "language_info": {
   "codemirror_mode": {
    "name": "ipython",
    "version": 3
   },
   "file_extension": ".py",
   "mimetype": "text/x-python",
   "name": "python",
   "nbconvert_exporter": "python",
   "pygments_lexer": "ipython3",
   "version": "3.11.2"
  },
  "orig_nbformat": 4
 },
 "nbformat": 4,
 "nbformat_minor": 2
}
